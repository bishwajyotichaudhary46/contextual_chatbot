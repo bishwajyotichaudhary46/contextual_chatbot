{
  "nbformat": 4,
  "nbformat_minor": 0,
  "metadata": {
    "colab": {
      "provenance": []
    },
    "kernelspec": {
      "name": "python3",
      "display_name": "Python 3"
    },
    "language_info": {
      "name": "python"
    },
    "accelerator": "GPU",
    "gpuClass": "standard"
  },
  "cells": [
    {
      "cell_type": "code",
      "source": [
        "import nltk \n",
        "nltk.download(\"punkt\")\n",
        "from nltk.stem.lancaster import LancasterStemmer\n"
      ],
      "metadata": {
        "id": "CHuEhHf0jLfl",
        "colab": {
          "base_uri": "https://localhost:8080/"
        },
        "outputId": "60b16089-f575-4e7a-81db-1d31e1fe7f36"
      },
      "execution_count": 1,
      "outputs": [
        {
          "output_type": "stream",
          "name": "stderr",
          "text": [
            "[nltk_data] Downloading package punkt to /root/nltk_data...\n",
            "[nltk_data]   Unzipping tokenizers/punkt.zip.\n"
          ]
        }
      ]
    },
    {
      "cell_type": "code",
      "execution_count": 2,
      "metadata": {
        "id": "drVfKuTFi_jg"
      },
      "outputs": [],
      "source": [
        "stemmer = LancasterStemmer()\n"
      ]
    },
    {
      "cell_type": "code",
      "source": [
        "!pip install tflearn"
      ],
      "metadata": {
        "colab": {
          "base_uri": "https://localhost:8080/"
        },
        "id": "j28nfCtyskKY",
        "outputId": "ebb8f674-4dad-4420-dfb0-a2ea6f0c9170"
      },
      "execution_count": 4,
      "outputs": [
        {
          "output_type": "stream",
          "name": "stdout",
          "text": [
            "Looking in indexes: https://pypi.org/simple, https://us-python.pkg.dev/colab-wheels/public/simple/\n",
            "Collecting tflearn\n",
            "  Downloading tflearn-0.5.0.tar.gz (107 kB)\n",
            "\u001b[2K     \u001b[90m━━━━━━━━━━━━━━━━━━━━━━━━━━━━━━━━━━━━━━━\u001b[0m \u001b[32m107.3/107.3 kB\u001b[0m \u001b[31m5.4 MB/s\u001b[0m eta \u001b[36m0:00:00\u001b[0m\n",
            "\u001b[?25h  Preparing metadata (setup.py) ... \u001b[?25l\u001b[?25hdone\n",
            "Requirement already satisfied: numpy in /usr/local/lib/python3.9/dist-packages (from tflearn) (1.22.4)\n",
            "Requirement already satisfied: six in /usr/local/lib/python3.9/dist-packages (from tflearn) (1.16.0)\n",
            "Requirement already satisfied: Pillow in /usr/local/lib/python3.9/dist-packages (from tflearn) (8.4.0)\n",
            "Building wheels for collected packages: tflearn\n",
            "  Building wheel for tflearn (setup.py) ... \u001b[?25l\u001b[?25hdone\n",
            "  Created wheel for tflearn: filename=tflearn-0.5.0-py3-none-any.whl size=127299 sha256=e0480b3bcd17912e41d68a9594dd1216dbcbcf50f105fd058c01f720e7dd603b\n",
            "  Stored in directory: /root/.cache/pip/wheels/4a/d5/f8/9585b4a100c0fd73da204ee785457d67c85e1b9050f009a849\n",
            "Successfully built tflearn\n",
            "Installing collected packages: tflearn\n",
            "Successfully installed tflearn-0.5.0\n"
          ]
        }
      ]
    },
    {
      "cell_type": "code",
      "source": [
        "import tensorflow as tf\n",
        "import numpy as np\n",
        "import tflearn\n",
        "import random\n",
        "import json"
      ],
      "metadata": {
        "id": "Uh6yFbmljGak",
        "colab": {
          "base_uri": "https://localhost:8080/"
        },
        "outputId": "071bf108-942d-4d9d-c2d8-2923b7b11dc2"
      },
      "execution_count": 5,
      "outputs": [
        {
          "output_type": "stream",
          "name": "stderr",
          "text": [
            "WARNING:tensorflow:From /usr/local/lib/python3.9/dist-packages/tensorflow/python/compat/v2_compat.py:107: disable_resource_variables (from tensorflow.python.ops.variable_scope) is deprecated and will be removed in a future version.\n",
            "Instructions for updating:\n",
            "non-resource variables are not supported in the long term\n"
          ]
        }
      ]
    },
    {
      "cell_type": "code",
      "source": [
        "from google.colab import files\n",
        "files.upload()"
      ],
      "metadata": {
        "colab": {
          "base_uri": "https://localhost:8080/",
          "height": 365
        },
        "id": "ZaMIB9QSsfwY",
        "outputId": "db5c6f64-543b-4f9d-daea-e823db55951f"
      },
      "execution_count": 6,
      "outputs": [
        {
          "output_type": "display_data",
          "data": {
            "text/plain": [
              "<IPython.core.display.HTML object>"
            ],
            "text/html": [
              "\n",
              "     <input type=\"file\" id=\"files-514d031d-1fcf-4675-bcb5-4fd498636837\" name=\"files[]\" multiple disabled\n",
              "        style=\"border:none\" />\n",
              "     <output id=\"result-514d031d-1fcf-4675-bcb5-4fd498636837\">\n",
              "      Upload widget is only available when the cell has been executed in the\n",
              "      current browser session. Please rerun this cell to enable.\n",
              "      </output>\n",
              "      <script>// Copyright 2017 Google LLC\n",
              "//\n",
              "// Licensed under the Apache License, Version 2.0 (the \"License\");\n",
              "// you may not use this file except in compliance with the License.\n",
              "// You may obtain a copy of the License at\n",
              "//\n",
              "//      http://www.apache.org/licenses/LICENSE-2.0\n",
              "//\n",
              "// Unless required by applicable law or agreed to in writing, software\n",
              "// distributed under the License is distributed on an \"AS IS\" BASIS,\n",
              "// WITHOUT WARRANTIES OR CONDITIONS OF ANY KIND, either express or implied.\n",
              "// See the License for the specific language governing permissions and\n",
              "// limitations under the License.\n",
              "\n",
              "/**\n",
              " * @fileoverview Helpers for google.colab Python module.\n",
              " */\n",
              "(function(scope) {\n",
              "function span(text, styleAttributes = {}) {\n",
              "  const element = document.createElement('span');\n",
              "  element.textContent = text;\n",
              "  for (const key of Object.keys(styleAttributes)) {\n",
              "    element.style[key] = styleAttributes[key];\n",
              "  }\n",
              "  return element;\n",
              "}\n",
              "\n",
              "// Max number of bytes which will be uploaded at a time.\n",
              "const MAX_PAYLOAD_SIZE = 100 * 1024;\n",
              "\n",
              "function _uploadFiles(inputId, outputId) {\n",
              "  const steps = uploadFilesStep(inputId, outputId);\n",
              "  const outputElement = document.getElementById(outputId);\n",
              "  // Cache steps on the outputElement to make it available for the next call\n",
              "  // to uploadFilesContinue from Python.\n",
              "  outputElement.steps = steps;\n",
              "\n",
              "  return _uploadFilesContinue(outputId);\n",
              "}\n",
              "\n",
              "// This is roughly an async generator (not supported in the browser yet),\n",
              "// where there are multiple asynchronous steps and the Python side is going\n",
              "// to poll for completion of each step.\n",
              "// This uses a Promise to block the python side on completion of each step,\n",
              "// then passes the result of the previous step as the input to the next step.\n",
              "function _uploadFilesContinue(outputId) {\n",
              "  const outputElement = document.getElementById(outputId);\n",
              "  const steps = outputElement.steps;\n",
              "\n",
              "  const next = steps.next(outputElement.lastPromiseValue);\n",
              "  return Promise.resolve(next.value.promise).then((value) => {\n",
              "    // Cache the last promise value to make it available to the next\n",
              "    // step of the generator.\n",
              "    outputElement.lastPromiseValue = value;\n",
              "    return next.value.response;\n",
              "  });\n",
              "}\n",
              "\n",
              "/**\n",
              " * Generator function which is called between each async step of the upload\n",
              " * process.\n",
              " * @param {string} inputId Element ID of the input file picker element.\n",
              " * @param {string} outputId Element ID of the output display.\n",
              " * @return {!Iterable<!Object>} Iterable of next steps.\n",
              " */\n",
              "function* uploadFilesStep(inputId, outputId) {\n",
              "  const inputElement = document.getElementById(inputId);\n",
              "  inputElement.disabled = false;\n",
              "\n",
              "  const outputElement = document.getElementById(outputId);\n",
              "  outputElement.innerHTML = '';\n",
              "\n",
              "  const pickedPromise = new Promise((resolve) => {\n",
              "    inputElement.addEventListener('change', (e) => {\n",
              "      resolve(e.target.files);\n",
              "    });\n",
              "  });\n",
              "\n",
              "  const cancel = document.createElement('button');\n",
              "  inputElement.parentElement.appendChild(cancel);\n",
              "  cancel.textContent = 'Cancel upload';\n",
              "  const cancelPromise = new Promise((resolve) => {\n",
              "    cancel.onclick = () => {\n",
              "      resolve(null);\n",
              "    };\n",
              "  });\n",
              "\n",
              "  // Wait for the user to pick the files.\n",
              "  const files = yield {\n",
              "    promise: Promise.race([pickedPromise, cancelPromise]),\n",
              "    response: {\n",
              "      action: 'starting',\n",
              "    }\n",
              "  };\n",
              "\n",
              "  cancel.remove();\n",
              "\n",
              "  // Disable the input element since further picks are not allowed.\n",
              "  inputElement.disabled = true;\n",
              "\n",
              "  if (!files) {\n",
              "    return {\n",
              "      response: {\n",
              "        action: 'complete',\n",
              "      }\n",
              "    };\n",
              "  }\n",
              "\n",
              "  for (const file of files) {\n",
              "    const li = document.createElement('li');\n",
              "    li.append(span(file.name, {fontWeight: 'bold'}));\n",
              "    li.append(span(\n",
              "        `(${file.type || 'n/a'}) - ${file.size} bytes, ` +\n",
              "        `last modified: ${\n",
              "            file.lastModifiedDate ? file.lastModifiedDate.toLocaleDateString() :\n",
              "                                    'n/a'} - `));\n",
              "    const percent = span('0% done');\n",
              "    li.appendChild(percent);\n",
              "\n",
              "    outputElement.appendChild(li);\n",
              "\n",
              "    const fileDataPromise = new Promise((resolve) => {\n",
              "      const reader = new FileReader();\n",
              "      reader.onload = (e) => {\n",
              "        resolve(e.target.result);\n",
              "      };\n",
              "      reader.readAsArrayBuffer(file);\n",
              "    });\n",
              "    // Wait for the data to be ready.\n",
              "    let fileData = yield {\n",
              "      promise: fileDataPromise,\n",
              "      response: {\n",
              "        action: 'continue',\n",
              "      }\n",
              "    };\n",
              "\n",
              "    // Use a chunked sending to avoid message size limits. See b/62115660.\n",
              "    let position = 0;\n",
              "    do {\n",
              "      const length = Math.min(fileData.byteLength - position, MAX_PAYLOAD_SIZE);\n",
              "      const chunk = new Uint8Array(fileData, position, length);\n",
              "      position += length;\n",
              "\n",
              "      const base64 = btoa(String.fromCharCode.apply(null, chunk));\n",
              "      yield {\n",
              "        response: {\n",
              "          action: 'append',\n",
              "          file: file.name,\n",
              "          data: base64,\n",
              "        },\n",
              "      };\n",
              "\n",
              "      let percentDone = fileData.byteLength === 0 ?\n",
              "          100 :\n",
              "          Math.round((position / fileData.byteLength) * 100);\n",
              "      percent.textContent = `${percentDone}% done`;\n",
              "\n",
              "    } while (position < fileData.byteLength);\n",
              "  }\n",
              "\n",
              "  // All done.\n",
              "  yield {\n",
              "    response: {\n",
              "      action: 'complete',\n",
              "    }\n",
              "  };\n",
              "}\n",
              "\n",
              "scope.google = scope.google || {};\n",
              "scope.google.colab = scope.google.colab || {};\n",
              "scope.google.colab._files = {\n",
              "  _uploadFiles,\n",
              "  _uploadFilesContinue,\n",
              "};\n",
              "})(self);\n",
              "</script> "
            ]
          },
          "metadata": {}
        },
        {
          "output_type": "stream",
          "name": "stdout",
          "text": [
            "Saving intents.json to intents.json\n"
          ]
        },
        {
          "output_type": "execute_result",
          "data": {
            "text/plain": [
              "{'intents.json': b'{\"intents\": [\\n        {\"tag\": \"greeting\",\\n         \"patterns\": [\"Hi\", \"How are you\", \"Is anyone there?\", \"Hello\", \"Good day\"],\\n         \"responses\": [\"Hello, thanks for visiting\", \"Good to see you again\", \"Hi there, how can I help?\"],\\n         \"context_set\": \"\"\\n        },\\n        {\"tag\": \"goodbye\",\\n         \"patterns\": [\"Bye\", \"See you later\", \"Goodbye\"],\\n         \"responses\": [\"See you later, thanks for visiting\", \"Have a nice day\", \"Bye! Come back again soon.\"]\\n        },\\n        {\"tag\": \"thanks\",\\n         \"patterns\": [\"Thanks\", \"Thank you\", \"That\\'s helpful\"],\\n         \"responses\": [\"Happy to help!\", \"Any time!\", \"My pleasure\"]\\n        },\\n        {\"tag\": \"hours\",\\n         \"patterns\": [\"What hours are you open?\", \"What are your hours?\", \"When are you open?\" ],\\n         \"responses\": [\"We\\'re open every day 9am-9pm\", \"Our hours are 9am-9pm every day\"]\\n        },\\n        {\"tag\": \"location\",\\n         \"patterns\": [\"What is your location?\", \"Where are you located?\", \"What is your address?\", \"Where is your restaurant situated?\" ],\\n         \"responses\": [\"We are on the intersection of London Alley and Bridge Avenue.\", \"We are situated at the intersection of London Alley and Bridge Avenue\", \"Our Address is: 1000 Bridge Avenue, London EC3N 4AJ, UK\"]\\n        },\\n        {\"tag\": \"payments\",\\n         \"patterns\": [\"Do you take credit cards?\", \"Do you accept Mastercard?\", \"Are you cash only?\" ],\\n         \"responses\": [\"We accept VISA, Mastercard and AMEX\", \"We accept most major credit cards\"]\\n        },\\n        {\"tag\": \"todaysmenu\",\\n         \"patterns\": [\"What is your menu for today?\", \"What are you serving today?\", \"What is today\\'s special?\"],\\n         \"responses\": [\"Today\\'s special is Chicken Tikka\", \"Our speciality for today is Chicken Tikka\"]\\n        },\\n        {\"tag\": \"deliveryoption\",\\n         \"patterns\": [\"Do you provide home delivery?\", \"Do you deliver the food?\", \"What are the home delivery options?\" ],\\n         \"responses\": [\"Yes, we provide home delivery through UBER Eats and Zomato?\", \"We have home delivery options through UBER Eats and Zomato\"],\\n         \"context_set\": \"food\"\\n        },\\n        {\"tag\": \"menu\",\\n         \"patterns\": [\"What is your Menu?\", \"What are the main course options?\", \"Can you tell me the most delicious dish from the menu?\", \"What is the today\\'s special?\"],\\n         \"responses\": [\"You can visit www.mymenu.com for menu options\", \"You can check out the food menu at www.mymenu.com\", \"You can check various delicacies given in the food menu at www.mymenu.com\"],\\n         \"context_filter\": \"food\"\\n        }\\n   ]\\n}\\n'}"
            ]
          },
          "metadata": {},
          "execution_count": 6
        }
      ]
    },
    {
      "cell_type": "code",
      "source": [
        "with open(\"intents.json\") as json_data:\n",
        "  intents = json.load(json_data)"
      ],
      "metadata": {
        "id": "E-xly4d4vFtw"
      },
      "execution_count": 7,
      "outputs": []
    },
    {
      "cell_type": "code",
      "source": [
        "intents"
      ],
      "metadata": {
        "colab": {
          "base_uri": "https://localhost:8080/"
        },
        "id": "cJHm1YIFvhMJ",
        "outputId": "a05f557f-1ccd-475c-a313-c15ccd7e7cfb"
      },
      "execution_count": 8,
      "outputs": [
        {
          "output_type": "execute_result",
          "data": {
            "text/plain": [
              "{'intents': [{'tag': 'greeting',\n",
              "   'patterns': ['Hi', 'How are you', 'Is anyone there?', 'Hello', 'Good day'],\n",
              "   'responses': ['Hello, thanks for visiting',\n",
              "    'Good to see you again',\n",
              "    'Hi there, how can I help?'],\n",
              "   'context_set': ''},\n",
              "  {'tag': 'goodbye',\n",
              "   'patterns': ['Bye', 'See you later', 'Goodbye'],\n",
              "   'responses': ['See you later, thanks for visiting',\n",
              "    'Have a nice day',\n",
              "    'Bye! Come back again soon.']},\n",
              "  {'tag': 'thanks',\n",
              "   'patterns': ['Thanks', 'Thank you', \"That's helpful\"],\n",
              "   'responses': ['Happy to help!', 'Any time!', 'My pleasure']},\n",
              "  {'tag': 'hours',\n",
              "   'patterns': ['What hours are you open?',\n",
              "    'What are your hours?',\n",
              "    'When are you open?'],\n",
              "   'responses': [\"We're open every day 9am-9pm\",\n",
              "    'Our hours are 9am-9pm every day']},\n",
              "  {'tag': 'location',\n",
              "   'patterns': ['What is your location?',\n",
              "    'Where are you located?',\n",
              "    'What is your address?',\n",
              "    'Where is your restaurant situated?'],\n",
              "   'responses': ['We are on the intersection of London Alley and Bridge Avenue.',\n",
              "    'We are situated at the intersection of London Alley and Bridge Avenue',\n",
              "    'Our Address is: 1000 Bridge Avenue, London EC3N 4AJ, UK']},\n",
              "  {'tag': 'payments',\n",
              "   'patterns': ['Do you take credit cards?',\n",
              "    'Do you accept Mastercard?',\n",
              "    'Are you cash only?'],\n",
              "   'responses': ['We accept VISA, Mastercard and AMEX',\n",
              "    'We accept most major credit cards']},\n",
              "  {'tag': 'todaysmenu',\n",
              "   'patterns': ['What is your menu for today?',\n",
              "    'What are you serving today?',\n",
              "    \"What is today's special?\"],\n",
              "   'responses': [\"Today's special is Chicken Tikka\",\n",
              "    'Our speciality for today is Chicken Tikka']},\n",
              "  {'tag': 'deliveryoption',\n",
              "   'patterns': ['Do you provide home delivery?',\n",
              "    'Do you deliver the food?',\n",
              "    'What are the home delivery options?'],\n",
              "   'responses': ['Yes, we provide home delivery through UBER Eats and Zomato?',\n",
              "    'We have home delivery options through UBER Eats and Zomato'],\n",
              "   'context_set': 'food'},\n",
              "  {'tag': 'menu',\n",
              "   'patterns': ['What is your Menu?',\n",
              "    'What are the main course options?',\n",
              "    'Can you tell me the most delicious dish from the menu?',\n",
              "    \"What is the today's special?\"],\n",
              "   'responses': ['You can visit www.mymenu.com for menu options',\n",
              "    'You can check out the food menu at www.mymenu.com',\n",
              "    'You can check various delicacies given in the food menu at www.mymenu.com'],\n",
              "   'context_filter': 'food'}]}"
            ]
          },
          "metadata": {},
          "execution_count": 8
        }
      ]
    },
    {
      "cell_type": "code",
      "source": [
        "words = []\n",
        "classes = []\n",
        "documents = []\n",
        "ignore = [\"?\"]\n",
        "\n",
        "for intent in intents[\"intents\"]:\n",
        "  for pattern in intent[\"patterns\"]:\n",
        "    w = nltk.word_tokenize(pattern)\n",
        "    words.extend(w)\n",
        "    documents.append((w, intent['tag']))\n",
        "    if intent['tag'] not in classes:\n",
        "      classes.append(intent['tag'])\n",
        "\n",
        "\n"
      ],
      "metadata": {
        "id": "nzdjgHryvhPU"
      },
      "execution_count": 9,
      "outputs": []
    },
    {
      "cell_type": "code",
      "source": [
        "words"
      ],
      "metadata": {
        "colab": {
          "base_uri": "https://localhost:8080/"
        },
        "id": "sQzMWTMfvhSM",
        "outputId": "c880cce0-4de1-4018-bcc6-b8f1e0462189"
      },
      "execution_count": 10,
      "outputs": [
        {
          "output_type": "execute_result",
          "data": {
            "text/plain": [
              "['Hi',\n",
              " 'How',\n",
              " 'are',\n",
              " 'you',\n",
              " 'Is',\n",
              " 'anyone',\n",
              " 'there',\n",
              " '?',\n",
              " 'Hello',\n",
              " 'Good',\n",
              " 'day',\n",
              " 'Bye',\n",
              " 'See',\n",
              " 'you',\n",
              " 'later',\n",
              " 'Goodbye',\n",
              " 'Thanks',\n",
              " 'Thank',\n",
              " 'you',\n",
              " 'That',\n",
              " \"'s\",\n",
              " 'helpful',\n",
              " 'What',\n",
              " 'hours',\n",
              " 'are',\n",
              " 'you',\n",
              " 'open',\n",
              " '?',\n",
              " 'What',\n",
              " 'are',\n",
              " 'your',\n",
              " 'hours',\n",
              " '?',\n",
              " 'When',\n",
              " 'are',\n",
              " 'you',\n",
              " 'open',\n",
              " '?',\n",
              " 'What',\n",
              " 'is',\n",
              " 'your',\n",
              " 'location',\n",
              " '?',\n",
              " 'Where',\n",
              " 'are',\n",
              " 'you',\n",
              " 'located',\n",
              " '?',\n",
              " 'What',\n",
              " 'is',\n",
              " 'your',\n",
              " 'address',\n",
              " '?',\n",
              " 'Where',\n",
              " 'is',\n",
              " 'your',\n",
              " 'restaurant',\n",
              " 'situated',\n",
              " '?',\n",
              " 'Do',\n",
              " 'you',\n",
              " 'take',\n",
              " 'credit',\n",
              " 'cards',\n",
              " '?',\n",
              " 'Do',\n",
              " 'you',\n",
              " 'accept',\n",
              " 'Mastercard',\n",
              " '?',\n",
              " 'Are',\n",
              " 'you',\n",
              " 'cash',\n",
              " 'only',\n",
              " '?',\n",
              " 'What',\n",
              " 'is',\n",
              " 'your',\n",
              " 'menu',\n",
              " 'for',\n",
              " 'today',\n",
              " '?',\n",
              " 'What',\n",
              " 'are',\n",
              " 'you',\n",
              " 'serving',\n",
              " 'today',\n",
              " '?',\n",
              " 'What',\n",
              " 'is',\n",
              " 'today',\n",
              " \"'s\",\n",
              " 'special',\n",
              " '?',\n",
              " 'Do',\n",
              " 'you',\n",
              " 'provide',\n",
              " 'home',\n",
              " 'delivery',\n",
              " '?',\n",
              " 'Do',\n",
              " 'you',\n",
              " 'deliver',\n",
              " 'the',\n",
              " 'food',\n",
              " '?',\n",
              " 'What',\n",
              " 'are',\n",
              " 'the',\n",
              " 'home',\n",
              " 'delivery',\n",
              " 'options',\n",
              " '?',\n",
              " 'What',\n",
              " 'is',\n",
              " 'your',\n",
              " 'Menu',\n",
              " '?',\n",
              " 'What',\n",
              " 'are',\n",
              " 'the',\n",
              " 'main',\n",
              " 'course',\n",
              " 'options',\n",
              " '?',\n",
              " 'Can',\n",
              " 'you',\n",
              " 'tell',\n",
              " 'me',\n",
              " 'the',\n",
              " 'most',\n",
              " 'delicious',\n",
              " 'dish',\n",
              " 'from',\n",
              " 'the',\n",
              " 'menu',\n",
              " '?',\n",
              " 'What',\n",
              " 'is',\n",
              " 'the',\n",
              " 'today',\n",
              " \"'s\",\n",
              " 'special',\n",
              " '?']"
            ]
          },
          "metadata": {},
          "execution_count": 10
        }
      ]
    },
    {
      "cell_type": "code",
      "source": [
        "classes"
      ],
      "metadata": {
        "colab": {
          "base_uri": "https://localhost:8080/"
        },
        "id": "khFnSEYJzNYu",
        "outputId": "97ed4a0a-9680-4f8f-f9c5-5b1234f12b54"
      },
      "execution_count": 12,
      "outputs": [
        {
          "output_type": "execute_result",
          "data": {
            "text/plain": [
              "['greeting',\n",
              " 'goodbye',\n",
              " 'thanks',\n",
              " 'hours',\n",
              " 'location',\n",
              " 'payments',\n",
              " 'todaysmenu',\n",
              " 'deliveryoption',\n",
              " 'menu']"
            ]
          },
          "metadata": {},
          "execution_count": 12
        }
      ]
    },
    {
      "cell_type": "code",
      "source": [
        "documents"
      ],
      "metadata": {
        "colab": {
          "base_uri": "https://localhost:8080/"
        },
        "id": "3xlkMGkCvhU9",
        "outputId": "816abdca-c910-440d-dd8b-d1791d1b672d"
      },
      "execution_count": 11,
      "outputs": [
        {
          "output_type": "execute_result",
          "data": {
            "text/plain": [
              "[(['Hi'], 'greeting'),\n",
              " (['How', 'are', 'you'], 'greeting'),\n",
              " (['Is', 'anyone', 'there', '?'], 'greeting'),\n",
              " (['Hello'], 'greeting'),\n",
              " (['Good', 'day'], 'greeting'),\n",
              " (['Bye'], 'goodbye'),\n",
              " (['See', 'you', 'later'], 'goodbye'),\n",
              " (['Goodbye'], 'goodbye'),\n",
              " (['Thanks'], 'thanks'),\n",
              " (['Thank', 'you'], 'thanks'),\n",
              " (['That', \"'s\", 'helpful'], 'thanks'),\n",
              " (['What', 'hours', 'are', 'you', 'open', '?'], 'hours'),\n",
              " (['What', 'are', 'your', 'hours', '?'], 'hours'),\n",
              " (['When', 'are', 'you', 'open', '?'], 'hours'),\n",
              " (['What', 'is', 'your', 'location', '?'], 'location'),\n",
              " (['Where', 'are', 'you', 'located', '?'], 'location'),\n",
              " (['What', 'is', 'your', 'address', '?'], 'location'),\n",
              " (['Where', 'is', 'your', 'restaurant', 'situated', '?'], 'location'),\n",
              " (['Do', 'you', 'take', 'credit', 'cards', '?'], 'payments'),\n",
              " (['Do', 'you', 'accept', 'Mastercard', '?'], 'payments'),\n",
              " (['Are', 'you', 'cash', 'only', '?'], 'payments'),\n",
              " (['What', 'is', 'your', 'menu', 'for', 'today', '?'], 'todaysmenu'),\n",
              " (['What', 'are', 'you', 'serving', 'today', '?'], 'todaysmenu'),\n",
              " (['What', 'is', 'today', \"'s\", 'special', '?'], 'todaysmenu'),\n",
              " (['Do', 'you', 'provide', 'home', 'delivery', '?'], 'deliveryoption'),\n",
              " (['Do', 'you', 'deliver', 'the', 'food', '?'], 'deliveryoption'),\n",
              " (['What', 'are', 'the', 'home', 'delivery', 'options', '?'],\n",
              "  'deliveryoption'),\n",
              " (['What', 'is', 'your', 'Menu', '?'], 'menu'),\n",
              " (['What', 'are', 'the', 'main', 'course', 'options', '?'], 'menu'),\n",
              " (['Can',\n",
              "   'you',\n",
              "   'tell',\n",
              "   'me',\n",
              "   'the',\n",
              "   'most',\n",
              "   'delicious',\n",
              "   'dish',\n",
              "   'from',\n",
              "   'the',\n",
              "   'menu',\n",
              "   '?'],\n",
              "  'menu'),\n",
              " (['What', 'is', 'the', 'today', \"'s\", 'special', '?'], 'menu')]"
            ]
          },
          "metadata": {},
          "execution_count": 11
        }
      ]
    },
    {
      "cell_type": "code",
      "source": [
        "w"
      ],
      "metadata": {
        "colab": {
          "base_uri": "https://localhost:8080/"
        },
        "id": "j7iPtOGZvhXq",
        "outputId": "48bc213d-dc8d-427d-c4ff-00b937a671dc"
      },
      "execution_count": 13,
      "outputs": [
        {
          "output_type": "execute_result",
          "data": {
            "text/plain": [
              "['What', 'is', 'the', 'today', \"'s\", 'special', '?']"
            ]
          },
          "metadata": {},
          "execution_count": 13
        }
      ]
    },
    {
      "cell_type": "code",
      "source": [
        "words = [stemmer.stem(w.lower()) for w in words if w not in ignore]"
      ],
      "metadata": {
        "id": "AnKi7f5uvhag"
      },
      "execution_count": 14,
      "outputs": []
    },
    {
      "cell_type": "code",
      "source": [
        "words"
      ],
      "metadata": {
        "colab": {
          "base_uri": "https://localhost:8080/"
        },
        "id": "PaKQUZYXykJN",
        "outputId": "437ee71d-4ec4-4b9e-faf8-21e372017ad0"
      },
      "execution_count": 15,
      "outputs": [
        {
          "output_type": "execute_result",
          "data": {
            "text/plain": [
              "['hi',\n",
              " 'how',\n",
              " 'ar',\n",
              " 'you',\n",
              " 'is',\n",
              " 'anyon',\n",
              " 'ther',\n",
              " 'hello',\n",
              " 'good',\n",
              " 'day',\n",
              " 'bye',\n",
              " 'see',\n",
              " 'you',\n",
              " 'lat',\n",
              " 'goodby',\n",
              " 'thank',\n",
              " 'thank',\n",
              " 'you',\n",
              " 'that',\n",
              " \"'s\",\n",
              " 'help',\n",
              " 'what',\n",
              " 'hour',\n",
              " 'ar',\n",
              " 'you',\n",
              " 'op',\n",
              " 'what',\n",
              " 'ar',\n",
              " 'yo',\n",
              " 'hour',\n",
              " 'when',\n",
              " 'ar',\n",
              " 'you',\n",
              " 'op',\n",
              " 'what',\n",
              " 'is',\n",
              " 'yo',\n",
              " 'loc',\n",
              " 'wher',\n",
              " 'ar',\n",
              " 'you',\n",
              " 'loc',\n",
              " 'what',\n",
              " 'is',\n",
              " 'yo',\n",
              " 'address',\n",
              " 'wher',\n",
              " 'is',\n",
              " 'yo',\n",
              " 'resta',\n",
              " 'situ',\n",
              " 'do',\n",
              " 'you',\n",
              " 'tak',\n",
              " 'credit',\n",
              " 'card',\n",
              " 'do',\n",
              " 'you',\n",
              " 'acceiv',\n",
              " 'mastercard',\n",
              " 'ar',\n",
              " 'you',\n",
              " 'cash',\n",
              " 'on',\n",
              " 'what',\n",
              " 'is',\n",
              " 'yo',\n",
              " 'menu',\n",
              " 'for',\n",
              " 'today',\n",
              " 'what',\n",
              " 'ar',\n",
              " 'you',\n",
              " 'serv',\n",
              " 'today',\n",
              " 'what',\n",
              " 'is',\n",
              " 'today',\n",
              " \"'s\",\n",
              " 'spec',\n",
              " 'do',\n",
              " 'you',\n",
              " 'provid',\n",
              " 'hom',\n",
              " 'delivery',\n",
              " 'do',\n",
              " 'you',\n",
              " 'del',\n",
              " 'the',\n",
              " 'food',\n",
              " 'what',\n",
              " 'ar',\n",
              " 'the',\n",
              " 'hom',\n",
              " 'delivery',\n",
              " 'opt',\n",
              " 'what',\n",
              " 'is',\n",
              " 'yo',\n",
              " 'menu',\n",
              " 'what',\n",
              " 'ar',\n",
              " 'the',\n",
              " 'main',\n",
              " 'cours',\n",
              " 'opt',\n",
              " 'can',\n",
              " 'you',\n",
              " 'tel',\n",
              " 'me',\n",
              " 'the',\n",
              " 'most',\n",
              " 'delicy',\n",
              " 'dish',\n",
              " 'from',\n",
              " 'the',\n",
              " 'menu',\n",
              " 'what',\n",
              " 'is',\n",
              " 'the',\n",
              " 'today',\n",
              " \"'s\",\n",
              " 'spec']"
            ]
          },
          "metadata": {},
          "execution_count": 15
        }
      ]
    },
    {
      "cell_type": "code",
      "source": [
        "words = sorted(list(set(words)))\n",
        "classes = sorted(list(set(classes)))# using set to remove duplicate classes"
      ],
      "metadata": {
        "id": "ra9gn933ylcZ"
      },
      "execution_count": 16,
      "outputs": []
    },
    {
      "cell_type": "code",
      "source": [
        "print(len(documents),\"documents\")\n",
        "print(len(classes),\"classes\", classes)\n",
        "print(len(words),\"unique stemmed words\", words )"
      ],
      "metadata": {
        "colab": {
          "base_uri": "https://localhost:8080/"
        },
        "id": "V-wlvwQCy9vO",
        "outputId": "578dd091-b81b-4a21-b93b-a0e58418e3ca"
      },
      "execution_count": 17,
      "outputs": [
        {
          "output_type": "stream",
          "name": "stdout",
          "text": [
            "31 documents\n",
            "9 classes ['deliveryoption', 'goodbye', 'greeting', 'hours', 'location', 'menu', 'payments', 'thanks', 'todaysmenu']\n",
            "57 unique stemmed words [\"'s\", 'acceiv', 'address', 'anyon', 'ar', 'bye', 'can', 'card', 'cash', 'cours', 'credit', 'day', 'del', 'delicy', 'delivery', 'dish', 'do', 'food', 'for', 'from', 'good', 'goodby', 'hello', 'help', 'hi', 'hom', 'hour', 'how', 'is', 'lat', 'loc', 'main', 'mastercard', 'me', 'menu', 'most', 'on', 'op', 'opt', 'provid', 'resta', 'see', 'serv', 'situ', 'spec', 'tak', 'tel', 'thank', 'that', 'the', 'ther', 'today', 'what', 'when', 'wher', 'yo', 'you']\n"
          ]
        }
      ]
    },
    {
      "cell_type": "code",
      "source": [
        "training = []\n",
        "output = []\n",
        "output_empty = [0]* len(classes)\n",
        "\n",
        "for doc in documents:\n",
        "  bag = []\n",
        "  pattern_words = doc[0]\n",
        "  pattern_words = [stemmer.stem(word.lower()) for word in pattern_words]\n",
        "  for w in words:\n",
        "    bag.append(1) if w in pattern_words else bag.append(0)\n",
        "\n",
        "  output_row = list(output_empty)\n",
        "  output_row[classes.index(doc[1])] = 1\n",
        "  training.append([bag, output_row])\n",
        "\n",
        "random.shuffle(training)\n",
        "training = np.array(training)\n",
        "\n",
        "train_x  = list(training[:,0])\n",
        "train_y = list(training[:, 1])"
      ],
      "metadata": {
        "colab": {
          "base_uri": "https://localhost:8080/"
        },
        "id": "i9TDGYVDy_Co",
        "outputId": "db491aec-d5a7-46ff-89cc-5407f96b7285"
      },
      "execution_count": 18,
      "outputs": [
        {
          "output_type": "stream",
          "name": "stderr",
          "text": [
            "<ipython-input-18-406fc040b005>:17: VisibleDeprecationWarning: Creating an ndarray from ragged nested sequences (which is a list-or-tuple of lists-or-tuples-or ndarrays with different lengths or shapes) is deprecated. If you meant to do this, you must specify 'dtype=object' when creating the ndarray.\n",
            "  training = np.array(training)\n"
          ]
        }
      ]
    },
    {
      "cell_type": "code",
      "source": [
        "from tensorflow.python.framework import ops\n",
        "ops.reset_default_graph()\n",
        "\n",
        "net = tflearn.input_data(shape=[None, len(train_x[0])])\n",
        "net = tflearn.fully_connected(net, 10)\n",
        "net = tflearn.fully_connected(net, 10)\n",
        "net = tflearn.fully_connected(net, len(train_y[0]), activation = \"softmax\")\n",
        "net = tflearn.regression(net)\n",
        "\n",
        "model = tflearn.DNN(net, tensorboard_dir = \"tflearn_logs\")\n",
        "\n",
        "model.fit(train_x, train_y, n_epoch=900, batch_size = 8, show_metric = True)\n",
        "model.save(\"model.tflearn\")"
      ],
      "metadata": {
        "colab": {
          "base_uri": "https://localhost:8080/"
        },
        "id": "nfyjpkY4-BJY",
        "outputId": "ed990df7-c37b-4d2f-a0d7-49001282e47e"
      },
      "execution_count": 19,
      "outputs": [
        {
          "output_type": "stream",
          "name": "stdout",
          "text": [
            "Training Step: 3599  | total loss: \u001b[1m\u001b[32m1.42699\u001b[0m\u001b[0m | time: 0.046s\n",
            "| Adam | epoch: 900 | loss: 1.42699 - acc: 0.9164 -- iter: 24/31\n",
            "Training Step: 3600  | total loss: \u001b[1m\u001b[32m1.28720\u001b[0m\u001b[0m | time: 0.054s\n",
            "| Adam | epoch: 900 | loss: 1.28720 - acc: 0.9247 -- iter: 31/31\n",
            "--\n"
          ]
        }
      ]
    },
    {
      "cell_type": "code",
      "source": [
        "import pickle\n",
        "pickle.dump({'words':words,\"classes\":classes, 'train_x':train_x,'train_y':train_y, }, open(\"training_data\", \"wb\"))"
      ],
      "metadata": {
        "id": "Lu8s3eqbDkS4"
      },
      "execution_count": 20,
      "outputs": []
    },
    {
      "cell_type": "code",
      "source": [
        "data = pickle.load(open(\"training_data\", \"rb\"))\n",
        "words = data[\"words\"]\n",
        "classes = data[\"classes\"]\n",
        "train_x = data['train_x']\n",
        "train_y = data['train_y']"
      ],
      "metadata": {
        "id": "fLkF1kEv80gi"
      },
      "execution_count": 21,
      "outputs": []
    },
    {
      "cell_type": "code",
      "source": [
        "with open(\"intents.json\") as json_data:\n",
        "  intents = json.load(json_data)\n",
        "  "
      ],
      "metadata": {
        "id": "mtx1PQQ680tM"
      },
      "execution_count": 22,
      "outputs": []
    },
    {
      "cell_type": "code",
      "source": [
        "model.load(\"./model.tflearn\")"
      ],
      "metadata": {
        "id": "S_WHMcFJ_1IB"
      },
      "execution_count": 23,
      "outputs": []
    },
    {
      "cell_type": "code",
      "source": [
        "def clean_up_sentence(sentence):\n",
        "  sentence_words = nltk.word_tokenize(sentence)\n",
        "  sentence_words = [stemmer.stem(word.lower()) for word in sentence_words]\n",
        "  return sentence_words\n",
        "\n",
        "def bow(sentence, words, show_details = False):\n",
        "  sentence_words = clean_up_sentence(sentence)\n",
        "  bag = [0]*len(words)\n",
        "  for s in sentence_words:\n",
        "    for i,w in enumerate(words):\n",
        "      if w==s:\n",
        "        bag[i] = 1\n",
        "        if show_details:\n",
        "          print(f\"found in bag: {w}\")\n",
        "  return (np.array(bag))"
      ],
      "metadata": {
        "id": "i5YKRsuW_8N2"
      },
      "execution_count": 24,
      "outputs": []
    },
    {
      "cell_type": "code",
      "source": [
        "ERROR_THRESHOLD = 0.30\n",
        "\n",
        "def classify(sentence):\n",
        "    \"\"\"\n",
        "    Classify a sentence using a trained model and return the predicted class\n",
        "    and the confidence level.\n",
        "\n",
        "    Args:\n",
        "        sentence (str): The sentence to classify.\n",
        "\n",
        "    Returns:\n",
        "        A list of tuples representing the predicted classes and the confidence\n",
        "        levels, sorted by confidence level in descending order.\n",
        "    \"\"\"\n",
        "    results = model.predict([bow(sentence, words)])\n",
        "    confident_results = [(i, r) for i, r in enumerate(results[0]) if r > ERROR_THRESHOLD]\n",
        "    confident_results.sort(key=lambda x: x[1], reverse=True)\n",
        "    return [(classes[r[0]], r[1]) for r in confident_results]\n",
        "\n",
        "\n",
        "def response(sentence, user_id=\"123\", show_details=False):\n",
        "    \"\"\"\n",
        "    Generate a response to a user input.\n",
        "\n",
        "    Args:\n",
        "        sentence (str): The user input sentence to generate a response for.\n",
        "        user_id (str): The user ID.\n",
        "        show_details (bool): Whether to show debug information.\n",
        "\n",
        "    Returns:\n",
        "        A string representing the response to the user input.\n",
        "    \"\"\"\n",
        "    results = classify(sentence)\n",
        "    if results:\n",
        "        while results:\n",
        "            for intent in intents['intents']:\n",
        "                if intent['tag'] == results[0][0]:\n",
        "                    response = random.choice(intent['responses'])\n",
        "                    return response\n",
        "            results.pop(0)\n",
        "    else:\n",
        "        return \"I'm sorry, I didn't understand what you said.\"\n"
      ],
      "metadata": {
        "id": "dEg9EJjbCASQ"
      },
      "execution_count": 55,
      "outputs": []
    },
    {
      "cell_type": "code",
      "source": [
        "classify(\"what are you hours of operation?\")"
      ],
      "metadata": {
        "colab": {
          "base_uri": "https://localhost:8080/"
        },
        "id": "JrKI0HgoCAVw",
        "outputId": "e2f2aa01-a766-4cc9-d94e-8292d4ba0ece"
      },
      "execution_count": 66,
      "outputs": [
        {
          "output_type": "execute_result",
          "data": {
            "text/plain": [
              "[('hours', 0.99294996)]"
            ]
          },
          "metadata": {},
          "execution_count": 66
        }
      ]
    },
    {
      "cell_type": "code",
      "source": [
        "response(\"what are you hours of operation?\")"
      ],
      "metadata": {
        "colab": {
          "base_uri": "https://localhost:8080/",
          "height": 36
        },
        "id": "5ZqGCkunCAY-",
        "outputId": "81213cf5-8048-4591-8b50-b5411aadf84a"
      },
      "execution_count": 67,
      "outputs": [
        {
          "output_type": "execute_result",
          "data": {
            "text/plain": [
              "'Our hours are 9am-9pm every day'"
            ],
            "application/vnd.google.colaboratory.intrinsic+json": {
              "type": "string"
            }
          },
          "metadata": {},
          "execution_count": 67
        }
      ]
    },
    {
      "cell_type": "code",
      "source": [
        "response(\"what is menu for today?\")"
      ],
      "metadata": {
        "colab": {
          "base_uri": "https://localhost:8080/",
          "height": 36
        },
        "id": "RGPhnAGwCAbq",
        "outputId": "c6318277-829b-47b7-9715-d8f243eacb5c"
      },
      "execution_count": 56,
      "outputs": [
        {
          "output_type": "execute_result",
          "data": {
            "text/plain": [
              "\"Today's special is Chicken Tikka\""
            ],
            "application/vnd.google.colaboratory.intrinsic+json": {
              "type": "string"
            }
          },
          "metadata": {},
          "execution_count": 56
        }
      ]
    },
    {
      "cell_type": "code",
      "source": [
        "response(\"bye\")\n"
      ],
      "metadata": {
        "colab": {
          "base_uri": "https://localhost:8080/",
          "height": 36
        },
        "id": "EJmlGkrACAex",
        "outputId": "6d5b51e0-0349-43f8-b489-e50dffef72b5"
      },
      "execution_count": 57,
      "outputs": [
        {
          "output_type": "execute_result",
          "data": {
            "text/plain": [
              "'See you later, thanks for visiting'"
            ],
            "application/vnd.google.colaboratory.intrinsic+json": {
              "type": "string"
            }
          },
          "metadata": {},
          "execution_count": 57
        }
      ]
    },
    {
      "cell_type": "code",
      "source": [
        "context = {}\n",
        "ERROR_THRESHOLD = 0.25\n",
        "\n",
        "def classify(sentence):\n",
        "    \"\"\"\n",
        "    Classify a sentence using a trained model and return the predicted class\n",
        "    and the confidence level.\n",
        "\n",
        "    Args:\n",
        "        sentence (str): The sentence to classify.\n",
        "\n",
        "    Returns:\n",
        "        A list of tuples representing the predicted classes and the confidence\n",
        "        levels, sorted by confidence level in descending order.\n",
        "    \"\"\"\n",
        "    results = model.predict([bow(sentence, words)])[0]\n",
        "    confident_results = [(i, r) for i, r in enumerate(results) if r > ERROR_THRESHOLD]\n",
        "    confident_results.sort(key=lambda x: x[1], reverse=True)\n",
        "    return [(classes[r[0]], r[1]) for r in confident_results]\n",
        "\n",
        "\n",
        "def response(sentence, user_id='123', show_details=False):\n",
        "    \"\"\"\n",
        "    Generate a response to a user input.\n",
        "\n",
        "    Args:\n",
        "        sentence (str): The user input sentence to generate a response for.\n",
        "        user_id (str): The user ID.\n",
        "        show_details (bool): Whether to show debug information.\n",
        "\n",
        "    Returns:\n",
        "        A string representing the response to the user input.\n",
        "    \"\"\"\n",
        "    results = classify(sentence)\n",
        "    if results:\n",
        "        while results:\n",
        "            for intent in intents['intents']:\n",
        "                if intent['tag'] == results[0][0]:\n",
        "                    if 'context_set' in intent:\n",
        "                        if show_details:\n",
        "                            print('context:', intent['context_set'])\n",
        "                        context[user_id] = intent['context_set']\n",
        "                    if not ('context_filter' in intent and user_id not in context) or \\\n",
        "                            (user_id in context and 'context_filter' in intent and\n",
        "                             intent['context_filter'] == context[user_id]):\n",
        "                        if show_details:\n",
        "                            print('tag:', intent['tag'])\n",
        "                        response = random.choice(intent['responses'])\n",
        "                        return response\n",
        "            results.pop(0)\n",
        "    return \"I'm sorry, I didn't understand what you said.\"\n"
      ],
      "metadata": {
        "id": "yJ-QqclTQJcd"
      },
      "execution_count": 58,
      "outputs": []
    },
    {
      "cell_type": "code",
      "source": [
        "response(\"what are you today\")"
      ],
      "metadata": {
        "id": "CKmuzU54QJmP",
        "outputId": "026088d4-7655-472c-9857-ec9cf70ba7ed",
        "colab": {
          "base_uri": "https://localhost:8080/",
          "height": 36
        }
      },
      "execution_count": 59,
      "outputs": [
        {
          "output_type": "execute_result",
          "data": {
            "text/plain": [
              "'Our speciality for today is Chicken Tikka'"
            ],
            "application/vnd.google.colaboratory.intrinsic+json": {
              "type": "string"
            }
          },
          "metadata": {},
          "execution_count": 59
        }
      ]
    },
    {
      "cell_type": "code",
      "source": [
        "response(\"menu\")"
      ],
      "metadata": {
        "id": "snd29vbbQJp0",
        "outputId": "8f7d6378-0f26-43a3-f44a-a1b3ac0edf53",
        "colab": {
          "base_uri": "https://localhost:8080/",
          "height": 36
        }
      },
      "execution_count": 63,
      "outputs": [
        {
          "output_type": "execute_result",
          "data": {
            "text/plain": [
              "'You can check various delicacies given in the food menu at www.mymenu.com'"
            ],
            "application/vnd.google.colaboratory.intrinsic+json": {
              "type": "string"
            }
          },
          "metadata": {},
          "execution_count": 63
        }
      ]
    },
    {
      "cell_type": "code",
      "source": [
        "response(\"what is menu for today?\")"
      ],
      "metadata": {
        "id": "8rE-v2fFQJs4",
        "outputId": "6812ba7f-abb0-4a63-89d1-8b415f77949e",
        "colab": {
          "base_uri": "https://localhost:8080/",
          "height": 36
        }
      },
      "execution_count": 68,
      "outputs": [
        {
          "output_type": "execute_result",
          "data": {
            "text/plain": [
              "\"Today's special is Chicken Tikka\""
            ],
            "application/vnd.google.colaboratory.intrinsic+json": {
              "type": "string"
            }
          },
          "metadata": {},
          "execution_count": 68
        }
      ]
    },
    {
      "cell_type": "code",
      "source": [
        "context"
      ],
      "metadata": {
        "id": "c5iCE_9RQJv3",
        "outputId": "9a34e6cc-327a-42f7-b7fd-67faebc89a81",
        "colab": {
          "base_uri": "https://localhost:8080/"
        }
      },
      "execution_count": 69,
      "outputs": [
        {
          "output_type": "execute_result",
          "data": {
            "text/plain": [
              "{'123': ''}"
            ]
          },
          "metadata": {},
          "execution_count": 69
        }
      ]
    },
    {
      "cell_type": "code",
      "source": [
        "response(\"hi there !\", show_details=True)"
      ],
      "metadata": {
        "id": "k45g7-KQQJyd",
        "outputId": "acd38546-5cf4-4bce-b2e6-52ee15966234",
        "colab": {
          "base_uri": "https://localhost:8080/",
          "height": 72
        }
      },
      "execution_count": 70,
      "outputs": [
        {
          "output_type": "stream",
          "name": "stdout",
          "text": [
            "context: \n",
            "tag: greeting\n"
          ]
        },
        {
          "output_type": "execute_result",
          "data": {
            "text/plain": [
              "'Hi there, how can I help?'"
            ],
            "application/vnd.google.colaboratory.intrinsic+json": {
              "type": "string"
            }
          },
          "metadata": {},
          "execution_count": 70
        }
      ]
    },
    {
      "cell_type": "code",
      "source": [],
      "metadata": {
        "id": "nLSGlkg6ShmH"
      },
      "execution_count": null,
      "outputs": []
    }
  ]
}